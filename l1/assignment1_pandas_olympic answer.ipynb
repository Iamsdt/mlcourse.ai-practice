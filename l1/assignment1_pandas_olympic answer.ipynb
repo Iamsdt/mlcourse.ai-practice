{
  "nbformat": 4,
  "nbformat_minor": 0,
  "metadata": {
    "kernelspec": {
      "display_name": "Python 3",
      "language": "python",
      "name": "python3"
    },
    "language_info": {
      "codemirror_mode": {
        "name": "ipython",
        "version": 3
      },
      "file_extension": ".py",
      "mimetype": "text/x-python",
      "name": "python",
      "nbconvert_exporter": "python",
      "pygments_lexer": "ipython3",
      "version": "3.7.3"
    },
    "colab": {
      "name": "assignment1_pandas_olympic.ipynb",
      "version": "0.3.2",
      "provenance": []
    }
  },
  "cells": [
    {
      "cell_type": "markdown",
      "metadata": {
        "id": "Orokql8ui8Kg",
        "colab_type": "text"
      },
      "source": [
        "<center>\n",
        "<img src=\"../../img/ods_stickers.jpg\" />\n",
        "    \n",
        "## [mlcourse.ai](https://mlcourse.ai) – Open Machine Learning Course \n",
        "Author: Arina Lopukhova (@erynn). Edited by [Yury Kashnitskiy](https://yorko.github.io) (@yorko) and Vadim Shestopalov (@vchulski). This material is subject to the terms and conditions of the [Creative Commons CC BY-NC-SA 4.0](https://creativecommons.org/licenses/by-nc-sa/4.0/) license. Free use is permitted for any non-commercial purpose."
      ]
    },
    {
      "cell_type": "markdown",
      "metadata": {
        "id": "ni1mEn8Xi8Kl",
        "colab_type": "text"
      },
      "source": [
        "# <center>Assignment #1. Fall 2019\n",
        "## <center>Exploratory data analysis of Olympic games with Pandas\n",
        "    \n",
        "<img src='../../img/olympic_logo.png' width=50%>"
      ]
    },
    {
      "cell_type": "markdown",
      "metadata": {
        "id": "Bc5VpEXOi8Ko",
        "colab_type": "text"
      },
      "source": [
        "Prior to working on the assignment, you'd better check out the corresponding course material:\n",
        " - [Exploratory data analysis with Pandas](https://nbviewer.jupyter.org/github/Yorko/mlcourse_open/blob/master/jupyter_english/topic01_pandas_data_analysis/topic1_pandas_data_analysis.ipynb?flush_cache=true), the same as an interactive web-based [Kaggle Kernel](https://www.kaggle.com/kashnitsky/topic-1-exploratory-data-analysis-with-pandas)\n",
        " - first lectures in mlcourse.ai [YouTube playlist ](https://www.youtube.com/watch?v=QKTuw4PNOsU&list=PLVlY_7IJCMJeRfZ68eVfEcu-UcN9BbwiX) \n",
        " - you can also practice with demo assignments, which are simpler and already shared with solutions: [A1 demo](https://www.kaggle.com/kashnitsky/a1-demo-pandas-and-uci-adult-dataset), [solution](https://www.kaggle.com/kashnitsky/a1-demo-pandas-and-uci-adult-dataset-solution)\n",
        "\n",
        "### Your task is to:\n",
        " 1. write code and perform computations in the cells below\n",
        " 2. choose answers in the [webform](https://docs.google.com/forms/d/1JxhQ9Bg4OpM3E5N47ZuRbILgDuMRbvEnUbDMZK8L-NU). Solutions will be shared only with those who've filled in this form \n",
        " 3. submit answers with some email and **remember it**! This will be your ID during the course. Specify your real full name in the form as well (no nicks allowed in the final top-100 [rating](https://mlcourse.ai/rating)). If in doubt, you can re-submit the form till the deadline for A1, no problem, but stick to only one email.\n",
        " \n",
        "### <center> Deadline for A1: 2019 September 15, 20:59 GMT (London time)\n",
        "    \n",
        "You'll get up to 10 credits for this assignment.\n",
        "\n",
        "### How to get help\n",
        "In [ODS Slack](https://opendatascience.slack.com) (if you still don't have access, fill in the [form](https://docs.google.com/forms/d/10HAN5huM996snUKjsNYyT_oOlm2uOsTKulKurb3oiNM/) mentioned on the mlcourse.ai main page), we have a channel **#mlcourse_ai_news** with announcements from the course team.\n",
        "You can discuss the course content freely in the **#mlcourse_ai** channel (we still have a huge Russian-speaking group, they have a separate channel **#mlcourse_ai_rus**).\n",
        "\n",
        "Here's how you reply in a thread (press this dialog icon to drill down into a thread):\n",
        "\n",
        "<img src=\"../../img/start_a_thread.png\" />\n",
        "\n",
        "Please stick to special threads *a1_q1-5_fall2019* and *a1_q6-10_fall2019* in **#mlcourse_ai_news** for your questions on A1. Help each other without sharing correct code and answers. Our TA **Vadim @vchulski** is there to help (only in the mentioned thread, do not write to him directly).\n",
        "\n",
        "Lastly, you can save useful messages by pinning them, further you can find pinned items on the top, just below the channel name:\n",
        "\n",
        "<img src=\"../../img/pinned_item.png\" />\n",
        "\n",
        "### Assignment \n",
        "__There are ten questions about 120 years of Olympic history in this task. Your task is to fill in the missing Python code and choose answers in [this web-form](https://docs.google.com/forms/d/1JxhQ9Bg4OpM3E5N47ZuRbILgDuMRbvEnUbDMZK8L-NU).__"
      ]
    },
    {
      "cell_type": "markdown",
      "metadata": {
        "id": "j2GSvHa6i8Kr",
        "colab_type": "text"
      },
      "source": [
        "Download the file `athlete_events.csv` from [here](https://drive.google.com/file/d/1f5v6Z2ayc7h698FG_98wP5x1Y2zZQeox/view?usp=sharing) (scraped by [rgriffin](https://www.randigriffin.com/) from www.sports-reference.com). The dataset has the following features:\n",
        "\n",
        "- __ID__ - Unique number for each athlete\n",
        "- __Name__ - Athlete's name\n",
        "- __Sex__ - M or F\n",
        "- __Age__ - Integer\n",
        "- __Height__ - In centimeters\n",
        "- __Weight__ - In kilograms\n",
        "- __Team__ - Team name\n",
        "- __NOC__ - National Olympic Committee 3-letter code\n",
        "- __Games__ - Year and season\n",
        "- __Year__ - Integer\n",
        "- __Season__ - Summer or Winter\n",
        "- __City__ - Host city\n",
        "- __Sport__ - Sport\n",
        "- __Event__ - Event\n",
        "- __Medal__ - Gold, Silver, Bronze, or NA"
      ]
    },
    {
      "cell_type": "code",
      "metadata": {
        "id": "k3lTqwi7lt9r",
        "colab_type": "code",
        "colab": {
          "base_uri": "https://localhost:8080/",
          "height": 34
        },
        "outputId": "d98716c1-2f67-4459-e0c9-9cb957393916"
      },
      "source": [
        "from google.colab import drive\n",
        "drive.mount('/content/drive')"
      ],
      "execution_count": 301,
      "outputs": [
        {
          "output_type": "stream",
          "text": [
            "Drive already mounted at /content/drive; to attempt to forcibly remount, call drive.mount(\"/content/drive\", force_remount=True).\n"
          ],
          "name": "stdout"
        }
      ]
    },
    {
      "cell_type": "code",
      "metadata": {
        "ExecuteTime": {
          "end_time": "2019-09-11T13:16:01.792041Z",
          "start_time": "2019-09-11T13:16:01.227077Z"
        },
        "id": "ky94paRni8Kt",
        "colab_type": "code",
        "colab": {}
      },
      "source": [
        "import pandas as pd"
      ],
      "execution_count": 0,
      "outputs": []
    },
    {
      "cell_type": "code",
      "metadata": {
        "ExecuteTime": {
          "end_time": "2019-09-11T13:16:09.190408Z",
          "start_time": "2019-09-11T13:16:09.181617Z"
        },
        "id": "6txzRmKPi8Kz",
        "colab_type": "code",
        "colab": {}
      },
      "source": [
        "# Change the path to the dataset file if needed. \n",
        "PATH = 'drive/My Drive/athlete_events.csv'"
      ],
      "execution_count": 0,
      "outputs": []
    },
    {
      "cell_type": "code",
      "metadata": {
        "ExecuteTime": {
          "end_time": "2019-09-11T13:16:13.177883Z",
          "start_time": "2019-09-11T13:16:12.269283Z"
        },
        "id": "F6cdpOTRi8K9",
        "colab_type": "code",
        "colab": {
          "base_uri": "https://localhost:8080/",
          "height": 289
        },
        "outputId": "672c6c80-a52a-4d36-df36-29885d9a692f"
      },
      "source": [
        "data = pd.read_csv(PATH)\n",
        "data.head()"
      ],
      "execution_count": 304,
      "outputs": [
        {
          "output_type": "execute_result",
          "data": {
            "text/html": [
              "<div>\n",
              "<style scoped>\n",
              "    .dataframe tbody tr th:only-of-type {\n",
              "        vertical-align: middle;\n",
              "    }\n",
              "\n",
              "    .dataframe tbody tr th {\n",
              "        vertical-align: top;\n",
              "    }\n",
              "\n",
              "    .dataframe thead th {\n",
              "        text-align: right;\n",
              "    }\n",
              "</style>\n",
              "<table border=\"1\" class=\"dataframe\">\n",
              "  <thead>\n",
              "    <tr style=\"text-align: right;\">\n",
              "      <th></th>\n",
              "      <th>ID</th>\n",
              "      <th>Name</th>\n",
              "      <th>Sex</th>\n",
              "      <th>Age</th>\n",
              "      <th>Height</th>\n",
              "      <th>Weight</th>\n",
              "      <th>Team</th>\n",
              "      <th>NOC</th>\n",
              "      <th>Games</th>\n",
              "      <th>Year</th>\n",
              "      <th>Season</th>\n",
              "      <th>City</th>\n",
              "      <th>Sport</th>\n",
              "      <th>Event</th>\n",
              "      <th>Medal</th>\n",
              "    </tr>\n",
              "  </thead>\n",
              "  <tbody>\n",
              "    <tr>\n",
              "      <th>0</th>\n",
              "      <td>1</td>\n",
              "      <td>A Dijiang</td>\n",
              "      <td>M</td>\n",
              "      <td>24.0</td>\n",
              "      <td>180.0</td>\n",
              "      <td>80.0</td>\n",
              "      <td>China</td>\n",
              "      <td>CHN</td>\n",
              "      <td>1992 Summer</td>\n",
              "      <td>1992</td>\n",
              "      <td>Summer</td>\n",
              "      <td>Barcelona</td>\n",
              "      <td>Basketball</td>\n",
              "      <td>Basketball Men's Basketball</td>\n",
              "      <td>NaN</td>\n",
              "    </tr>\n",
              "    <tr>\n",
              "      <th>1</th>\n",
              "      <td>2</td>\n",
              "      <td>A Lamusi</td>\n",
              "      <td>M</td>\n",
              "      <td>23.0</td>\n",
              "      <td>170.0</td>\n",
              "      <td>60.0</td>\n",
              "      <td>China</td>\n",
              "      <td>CHN</td>\n",
              "      <td>2012 Summer</td>\n",
              "      <td>2012</td>\n",
              "      <td>Summer</td>\n",
              "      <td>London</td>\n",
              "      <td>Judo</td>\n",
              "      <td>Judo Men's Extra-Lightweight</td>\n",
              "      <td>NaN</td>\n",
              "    </tr>\n",
              "    <tr>\n",
              "      <th>2</th>\n",
              "      <td>3</td>\n",
              "      <td>Gunnar Nielsen Aaby</td>\n",
              "      <td>M</td>\n",
              "      <td>24.0</td>\n",
              "      <td>NaN</td>\n",
              "      <td>NaN</td>\n",
              "      <td>Denmark</td>\n",
              "      <td>DEN</td>\n",
              "      <td>1920 Summer</td>\n",
              "      <td>1920</td>\n",
              "      <td>Summer</td>\n",
              "      <td>Antwerpen</td>\n",
              "      <td>Football</td>\n",
              "      <td>Football Men's Football</td>\n",
              "      <td>NaN</td>\n",
              "    </tr>\n",
              "    <tr>\n",
              "      <th>3</th>\n",
              "      <td>4</td>\n",
              "      <td>Edgar Lindenau Aabye</td>\n",
              "      <td>M</td>\n",
              "      <td>34.0</td>\n",
              "      <td>NaN</td>\n",
              "      <td>NaN</td>\n",
              "      <td>Denmark/Sweden</td>\n",
              "      <td>DEN</td>\n",
              "      <td>1900 Summer</td>\n",
              "      <td>1900</td>\n",
              "      <td>Summer</td>\n",
              "      <td>Paris</td>\n",
              "      <td>Tug-Of-War</td>\n",
              "      <td>Tug-Of-War Men's Tug-Of-War</td>\n",
              "      <td>Gold</td>\n",
              "    </tr>\n",
              "    <tr>\n",
              "      <th>4</th>\n",
              "      <td>5</td>\n",
              "      <td>Christine Jacoba Aaftink</td>\n",
              "      <td>F</td>\n",
              "      <td>21.0</td>\n",
              "      <td>185.0</td>\n",
              "      <td>82.0</td>\n",
              "      <td>Netherlands</td>\n",
              "      <td>NED</td>\n",
              "      <td>1988 Winter</td>\n",
              "      <td>1988</td>\n",
              "      <td>Winter</td>\n",
              "      <td>Calgary</td>\n",
              "      <td>Speed Skating</td>\n",
              "      <td>Speed Skating Women's 500 metres</td>\n",
              "      <td>NaN</td>\n",
              "    </tr>\n",
              "  </tbody>\n",
              "</table>\n",
              "</div>"
            ],
            "text/plain": [
              "   ID                      Name  ...                             Event  Medal\n",
              "0   1                 A Dijiang  ...       Basketball Men's Basketball    NaN\n",
              "1   2                  A Lamusi  ...      Judo Men's Extra-Lightweight    NaN\n",
              "2   3       Gunnar Nielsen Aaby  ...           Football Men's Football    NaN\n",
              "3   4      Edgar Lindenau Aabye  ...       Tug-Of-War Men's Tug-Of-War   Gold\n",
              "4   5  Christine Jacoba Aaftink  ...  Speed Skating Women's 500 metres    NaN\n",
              "\n",
              "[5 rows x 15 columns]"
            ]
          },
          "metadata": {
            "tags": []
          },
          "execution_count": 304
        }
      ]
    },
    {
      "cell_type": "code",
      "metadata": {
        "ExecuteTime": {
          "end_time": "2019-09-11T13:19:39.292161Z",
          "start_time": "2019-09-11T13:19:39.113753Z"
        },
        "id": "yQN5o67Ji8LH",
        "colab_type": "code",
        "colab": {
          "base_uri": "https://localhost:8080/",
          "height": 357
        },
        "outputId": "5abe7231-99ff-46ae-90eb-b305ccd7bc87"
      },
      "source": [
        "data.info()"
      ],
      "execution_count": 305,
      "outputs": [
        {
          "output_type": "stream",
          "text": [
            "<class 'pandas.core.frame.DataFrame'>\n",
            "RangeIndex: 271116 entries, 0 to 271115\n",
            "Data columns (total 15 columns):\n",
            "ID        271116 non-null int64\n",
            "Name      271116 non-null object\n",
            "Sex       271116 non-null object\n",
            "Age       261642 non-null float64\n",
            "Height    210945 non-null float64\n",
            "Weight    208241 non-null float64\n",
            "Team      271116 non-null object\n",
            "NOC       271116 non-null object\n",
            "Games     271116 non-null object\n",
            "Year      271116 non-null int64\n",
            "Season    271116 non-null object\n",
            "City      271116 non-null object\n",
            "Sport     271116 non-null object\n",
            "Event     271116 non-null object\n",
            "Medal     39783 non-null object\n",
            "dtypes: float64(3), int64(2), object(10)\n",
            "memory usage: 31.0+ MB\n"
          ],
          "name": "stdout"
        }
      ]
    },
    {
      "cell_type": "markdown",
      "metadata": {
        "id": "bH5t5azji8LS",
        "colab_type": "text"
      },
      "source": [
        "__1. How old were the youngest male and female participants of the 1992 Olympics?__\n",
        "\n",
        "*For discussions, please stick to [ODS Slack](https://opendatascience.slack.com/), channel #mlcourse_ai_news, pinned thread #a1_q1-5_fall2019*\n",
        "\n",
        "- 16 and 15\n",
        "- 14 and 13 \n",
        "- 13 and 11\n",
        "- 11 and 12"
      ]
    },
    {
      "cell_type": "code",
      "metadata": {
        "ExecuteTime": {
          "end_time": "2019-09-11T13:28:30.259679Z",
          "start_time": "2019-09-11T13:28:30.126956Z"
        },
        "id": "uLk_iDeCi8LU",
        "colab_type": "code",
        "colab": {
          "base_uri": "https://localhost:8080/",
          "height": 34
        },
        "outputId": "35b7db44-3dd0-4b28-a5a8-e105a5f841e6"
      },
      "source": [
        "# You code here\n",
        "male = data.loc[(data['Year'] == 1992) & (data['Sex'] == 'M'), ['Age']]\n",
        "female = data.loc[(data['Year'] == 1992) & (data['Sex'] == 'F'), ['Age']]\n",
        "m = int(male.min()[0])\n",
        "f = int(female.min()[0])\n",
        "\n",
        "print('Age of Male and Female player\\'s: {} and {}'.format(m, f))"
      ],
      "execution_count": 306,
      "outputs": [
        {
          "output_type": "stream",
          "text": [
            "Age of Male and Female player's: 11 and 12\n"
          ],
          "name": "stdout"
        }
      ]
    },
    {
      "cell_type": "markdown",
      "metadata": {
        "id": "P1EzXOGwi8Ld",
        "colab_type": "text"
      },
      "source": [
        "__2. What was the percentage of male basketball players among all the male participants of the 2012 Olympics? Round the answer to the first decimal.__\n",
        "\n",
        "*Hint:* here and further if needed drop duplicated sportsmen to count only unique ones. \n",
        "\n",
        "*For discussions, please stick to [ODS Slack](https://opendatascience.slack.com/), channel #mlcourse_ai_news, pinned thread #a1_q1-5_fall2019*\n",
        "\n",
        "- 0.2\n",
        "- 1.5 \n",
        "- 2.5\n",
        "- 7.7"
      ]
    },
    {
      "cell_type": "code",
      "metadata": {
        "ExecuteTime": {
          "start_time": "2019-09-11T13:35:17.543Z"
        },
        "id": "TF7z7yUOi8Le",
        "colab_type": "code",
        "colab": {
          "base_uri": "https://localhost:8080/",
          "height": 34
        },
        "outputId": "b279c117-94f5-4815-f348-17fbade9608a"
      },
      "source": [
        "# You code here\n",
        "d = data.loc[(data['Year'] == 2012) & (data['Sex'] == 'M') & (data['Sport']=='Basketball'), ['ID']]\n",
        "j = d.shape[0]\n",
        "j"
      ],
      "execution_count": 307,
      "outputs": [
        {
          "output_type": "execute_result",
          "data": {
            "text/plain": [
              "144"
            ]
          },
          "metadata": {
            "tags": []
          },
          "execution_count": 307
        }
      ]
    },
    {
      "cell_type": "code",
      "metadata": {
        "id": "__s73alqi8Lk",
        "colab_type": "code",
        "colab": {
          "base_uri": "https://localhost:8080/",
          "height": 34
        },
        "outputId": "60ae4770-b53b-4d9a-afaf-9c9cab95623b"
      },
      "source": [
        "a = data.loc[(data['Year'] == 2012) & (data['Sex'] == 'M'), ['ID']]\n",
        "b = a.drop_duplicates('ID')\n",
        "c = b.shape[0]\n",
        "c"
      ],
      "execution_count": 308,
      "outputs": [
        {
          "output_type": "execute_result",
          "data": {
            "text/plain": [
              "5863"
            ]
          },
          "metadata": {
            "tags": []
          },
          "execution_count": 308
        }
      ]
    },
    {
      "cell_type": "code",
      "metadata": {
        "id": "QtfvOaCii8Lt",
        "colab_type": "code",
        "colab": {
          "base_uri": "https://localhost:8080/",
          "height": 34
        },
        "outputId": "b6f6ac8e-a8e1-430c-ad33-534d767ac3b7"
      },
      "source": [
        "print(\"Percentage: \", round((j/c)*100, 2))"
      ],
      "execution_count": 309,
      "outputs": [
        {
          "output_type": "stream",
          "text": [
            "Percentage:  2.46\n"
          ],
          "name": "stdout"
        }
      ]
    },
    {
      "cell_type": "markdown",
      "metadata": {
        "id": "Bw8ZKSDgi8Lz",
        "colab_type": "text"
      },
      "source": [
        "__3. What are the mean and standard deviation of height for female tennis players who participated in the 2000 Olympics? Round the answer to the first decimal.__\n",
        "\n",
        "*For discussions, please stick to [ODS Slack](https://opendatascience.slack.com/), channel #mlcourse_ai_news, pinned thread #a1_q1-5_fall2019*\n",
        "\n",
        "- 171.8 and 6.5\n",
        "- 179.4 and 10\n",
        "- 180.7 and 6.7\n",
        "- 182.4 and 9.1 "
      ]
    },
    {
      "cell_type": "code",
      "metadata": {
        "id": "OXCG39F5i8L6",
        "colab_type": "code",
        "colab": {
          "base_uri": "https://localhost:8080/",
          "height": 34
        },
        "outputId": "036cb167-723d-4a1d-feda-b53f5cbe5c45"
      },
      "source": [
        "# You code here\n",
        "f = data.loc[(data['Year'] == 2000) & (data['Sex'] == 'F') & (data['Sport']=='Tennis'), ['Height']]\n",
        "\n",
        "m = round(float(f.mean()), 1)\n",
        "s = round(float(f.std()), 1)\n",
        "print('Right answer of mean and std: {} and {}'.format(m, s))"
      ],
      "execution_count": 310,
      "outputs": [
        {
          "output_type": "stream",
          "text": [
            "Right answer of mean and std: 171.8 and 6.5\n"
          ],
          "name": "stdout"
        }
      ]
    },
    {
      "cell_type": "markdown",
      "metadata": {
        "id": "4TD9l8Zbi8MD",
        "colab_type": "text"
      },
      "source": [
        "__4. Find a sportsman who participated in the 2006 Olympics, with the highest weight among other participants of the same Olympics. What sport did he or she do?__\n",
        "\n",
        "*For discussions, please stick to [ODS Slack](https://opendatascience.slack.com/), channel #mlcourse_ai_news, pinned thread #a1_q1-5_fall2019*\n",
        "\n",
        "- Judo\n",
        "- Bobsleigh \n",
        "- Skeleton\n",
        "- Boxing"
      ]
    },
    {
      "cell_type": "code",
      "metadata": {
        "id": "cyFOwtG1i8MG",
        "colab_type": "code",
        "colab": {
          "base_uri": "https://localhost:8080/",
          "height": 34
        },
        "outputId": "fc803033-a15c-4833-9f47-57216adfb118"
      },
      "source": [
        "# You code here\n",
        "h = data.loc[(data['Year'] == 2006), ['Weight']]\n",
        "ans = data.loc[(data['Year'] == 2006) & (data['Weight'] == float(h.max())), 'Sport']\n",
        "print(\"Sport: \", ans.get_values()[0])"
      ],
      "execution_count": 311,
      "outputs": [
        {
          "output_type": "stream",
          "text": [
            "Sport:  Skeleton\n"
          ],
          "name": "stdout"
        }
      ]
    },
    {
      "cell_type": "markdown",
      "metadata": {
        "id": "W3qUdXlFi8MM",
        "colab_type": "text"
      },
      "source": [
        "__5. How many times did John Aalberg participate in the Olympics held in different years?__\n",
        "\n",
        "*For discussions, please stick to [ODS Slack](https://opendatascience.slack.com/), channel #mlcourse_ai_news, pinned thread #a1_q1-5_fall2019*\n",
        "\n",
        "- 0\n",
        "- 1 \n",
        "- 2\n",
        "- 3 "
      ]
    },
    {
      "cell_type": "code",
      "metadata": {
        "id": "uOoQTuXsi8MP",
        "colab_type": "code",
        "colab": {
          "base_uri": "https://localhost:8080/",
          "height": 34
        },
        "outputId": "e75a99b2-a052-4f41-a44d-624c75e474c4"
      },
      "source": [
        "# You code here\n",
        "times = data.loc[data['Name'] == 'John Aalberg', 'Year'].unique()\n",
        "print(\"participate {} times \".format(len(times)))"
      ],
      "execution_count": 312,
      "outputs": [
        {
          "output_type": "stream",
          "text": [
            "participate 2 times \n"
          ],
          "name": "stdout"
        }
      ]
    },
    {
      "cell_type": "markdown",
      "metadata": {
        "id": "2GMs-H5Si8MV",
        "colab_type": "text"
      },
      "source": [
        "__6. How many gold medals in tennis did sportspeople from the Switzerland team win at the 2008 Olympics? Count every medal from every sportsperson.__\n",
        "\n",
        "*For discussions, please stick to [ODS Slack](https://opendatascience.slack.com/), channel #mlcourse_ai_news, pinned thread #a1_q6-10_fall2019*\n",
        "\n",
        "- 0\n",
        "- 1 \n",
        "- 2\n",
        "- 3 "
      ]
    },
    {
      "cell_type": "code",
      "metadata": {
        "id": "OvVpzXv_i8MY",
        "colab_type": "code",
        "colab": {
          "base_uri": "https://localhost:8080/",
          "height": 34
        },
        "outputId": "e8cab35b-4897-4819-a971-bdfe8703585d"
      },
      "source": [
        "# You code here\n",
        "d = data.loc[(data['Year'] == 2008) & (data['Team'] == 'Switzerland') & (data['Sport']=='Tennis') & (data['Medal']=='Gold'), 'Medal'].value_counts()\n",
        "print(\"Total Gold Medal: \", int(d))"
      ],
      "execution_count": 313,
      "outputs": [
        {
          "output_type": "stream",
          "text": [
            "Total Gold Medal:  2\n"
          ],
          "name": "stdout"
        }
      ]
    },
    {
      "cell_type": "markdown",
      "metadata": {
        "id": "zSHNAAz7i8Me",
        "colab_type": "text"
      },
      "source": [
        "__7. Is it true that Spain won fewer medals than Italy at the 2016 Olympics? Do not consider NaN values in _Medal_ column.__ \n",
        "\n",
        "*For discussions, please stick to [ODS Slack](https://opendatascience.slack.com/), channel #mlcourse_ai_news, pinned thread #a1_q6-10_fall2019*\n",
        "\n",
        "- Yes\n",
        "- No"
      ]
    },
    {
      "cell_type": "code",
      "metadata": {
        "id": "yeNqEMFii8Mh",
        "colab_type": "code",
        "colab": {
          "base_uri": "https://localhost:8080/",
          "height": 102
        },
        "outputId": "4e48a8f1-05f4-4e02-91fa-a211a0f988ce"
      },
      "source": [
        "# You code here\n",
        "s = data.loc[(data['Year']==2016) & (data['Team']=='Spain'), 'Medal']\n",
        "p = s.value_counts()\n",
        "print(p)\n",
        "p.sum()"
      ],
      "execution_count": 314,
      "outputs": [
        {
          "output_type": "stream",
          "text": [
            "Silver    19\n",
            "Bronze    17\n",
            "Gold       7\n",
            "Name: Medal, dtype: int64\n"
          ],
          "name": "stdout"
        },
        {
          "output_type": "execute_result",
          "data": {
            "text/plain": [
              "43"
            ]
          },
          "metadata": {
            "tags": []
          },
          "execution_count": 314
        }
      ]
    },
    {
      "cell_type": "code",
      "metadata": {
        "id": "IDADvcAr3mS3",
        "colab_type": "code",
        "colab": {
          "base_uri": "https://localhost:8080/",
          "height": 102
        },
        "outputId": "0ac1758c-7ab5-4248-f2fa-f73c10be014c"
      },
      "source": [
        "i = data.loc[(data['Year']==2016) & (data['Team']=='Italy'), 'Medal']\n",
        "j = i.value_counts()\n",
        "print(j)\n",
        "j.sum()"
      ],
      "execution_count": 315,
      "outputs": [
        {
          "output_type": "stream",
          "text": [
            "Silver    38\n",
            "Bronze    24\n",
            "Gold       8\n",
            "Name: Medal, dtype: int64\n"
          ],
          "name": "stdout"
        },
        {
          "output_type": "execute_result",
          "data": {
            "text/plain": [
              "70"
            ]
          },
          "metadata": {
            "tags": []
          },
          "execution_count": 315
        }
      ]
    },
    {
      "cell_type": "code",
      "metadata": {
        "id": "kvtDWgVt35d2",
        "colab_type": "code",
        "colab": {
          "base_uri": "https://localhost:8080/",
          "height": 34
        },
        "outputId": "27f9937e-b1b2-45e9-c833-4282a42ff16c"
      },
      "source": [
        "print(\"Answer: \", p.sum() < j.sum())"
      ],
      "execution_count": 325,
      "outputs": [
        {
          "output_type": "stream",
          "text": [
            "Answer:  True\n"
          ],
          "name": "stdout"
        }
      ]
    },
    {
      "cell_type": "markdown",
      "metadata": {
        "id": "7du8h7nDi8Mn",
        "colab_type": "text"
      },
      "source": [
        "__8. What age category did the fewest and the most participants of the 2008 Olympics belong to?__\n",
        "\n",
        "*For discussions, please stick to [ODS Slack](https://opendatascience.slack.com/), channel #mlcourse_ai_news, pinned thread #a1_q6-10_fall2019*\n",
        "\n",
        "- [45-55] and [25-35) correspondingly\n",
        "- [45-55] and [15-25) correspondingly\n",
        "- [35-45) and [25-35) correspondingly\n",
        "- [45-55] and [35-45) correspondingly"
      ]
    },
    {
      "cell_type": "code",
      "metadata": {
        "id": "6mEU4wrEi8Mp",
        "colab_type": "code",
        "colab": {
          "base_uri": "https://localhost:8080/",
          "height": 34
        },
        "outputId": "f08afde0-7e51-468a-a144-a4186a1eef4b"
      },
      "source": [
        "# You code here\n",
        "s = data.loc[(data['Year']==2008, 'Age')]\n",
        "print(len(s))\n",
        "\n",
        "a1 = s.loc[(s >= 45) & (s <= 55)]\n",
        "a2 = s.loc[(s >= 25) & (s < 35)]\n",
        "a3 = s.loc[(s >= 15) & (s < 25)]\n",
        "a4 = s.loc[(s >= 35) & (s < 45)]"
      ],
      "execution_count": 317,
      "outputs": [
        {
          "output_type": "stream",
          "text": [
            "13602\n"
          ],
          "name": "stdout"
        }
      ]
    },
    {
      "cell_type": "code",
      "metadata": {
        "id": "C1dlr_VYGJ4X",
        "colab_type": "code",
        "colab": {
          "base_uri": "https://localhost:8080/",
          "height": 85
        },
        "outputId": "3d0f4baa-6db8-4150-b591-01309a1f6cce"
      },
      "source": [
        "print('[45-55] -> few', len(a1))\n",
        "print('[25-35) -> most', len(a2))\n",
        "print('[15-25) -> ', len(a3))\n",
        "print('[35-45) -> ', len(a4))"
      ],
      "execution_count": 318,
      "outputs": [
        {
          "output_type": "stream",
          "text": [
            "[45-55] -> few 119\n",
            "[25-35) -> most 6367\n",
            "[15-25) ->  6294\n",
            "[35-45) ->  790\n"
          ],
          "name": "stdout"
        }
      ]
    },
    {
      "cell_type": "markdown",
      "metadata": {
        "id": "QvE6DjcSi8Mz",
        "colab_type": "text"
      },
      "source": [
        "__9. Is it true that there were Summer Olympics held in Atlanta? Is it true that there were Winter Olympics held in Squaw Valley?__\n",
        "\n",
        "*For discussions, please stick to [ODS Slack](https://opendatascience.slack.com/), channel #mlcourse_ai_news, pinned thread #a1_q6-10_fall2019*\n",
        "\n",
        "- Yes, Yes\n",
        "- Yes, No\n",
        "- No, Yes \n",
        "- No, No "
      ]
    },
    {
      "cell_type": "code",
      "metadata": {
        "id": "LSULEKSci8M1",
        "colab_type": "code",
        "colab": {
          "base_uri": "https://localhost:8080/",
          "height": 34
        },
        "outputId": "5b7ee921-672d-40d8-d6a7-08a0f9494c28"
      },
      "source": [
        "# You code here\n",
        "data.loc[(data['City']=='Atlanta') & (data['Season']=='Summer'),'Season'].unique()"
      ],
      "execution_count": 319,
      "outputs": [
        {
          "output_type": "execute_result",
          "data": {
            "text/plain": [
              "array(['Summer'], dtype=object)"
            ]
          },
          "metadata": {
            "tags": []
          },
          "execution_count": 319
        }
      ]
    },
    {
      "cell_type": "code",
      "metadata": {
        "id": "YQpaBhfg4-mS",
        "colab_type": "code",
        "colab": {
          "base_uri": "https://localhost:8080/",
          "height": 34
        },
        "outputId": "00f585dd-0c3a-4667-cc58-b2107a376888"
      },
      "source": [
        "data.loc[(data['City']=='Squaw Valley') & (data['Season']=='Winter'),'Season'].unique()"
      ],
      "execution_count": 320,
      "outputs": [
        {
          "output_type": "execute_result",
          "data": {
            "text/plain": [
              "array(['Winter'], dtype=object)"
            ]
          },
          "metadata": {
            "tags": []
          },
          "execution_count": 320
        }
      ]
    },
    {
      "cell_type": "code",
      "metadata": {
        "id": "lIzoD_FNG5Hg",
        "colab_type": "code",
        "colab": {
          "base_uri": "https://localhost:8080/",
          "height": 34
        },
        "outputId": "7f07d3b3-e6c6-4306-ede9-d90542d7b356"
      },
      "source": [
        "print('Yes, Yes')"
      ],
      "execution_count": 321,
      "outputs": [
        {
          "output_type": "stream",
          "text": [
            "Yes, Yes\n"
          ],
          "name": "stdout"
        }
      ]
    },
    {
      "cell_type": "markdown",
      "metadata": {
        "id": "Mlhbj7Pmi8M6",
        "colab_type": "text"
      },
      "source": [
        "__10. What is the absolute difference between the number of unique sports at the 1986 Olympics and 2002 Olympics?__\n",
        "\n",
        "*For discussions, please stick to [ODS Slack](https://opendatascience.slack.com/), channel #mlcourse_ai_news, pinned thread #a1_q6-10_fall2019*\n",
        "\n",
        "- 3 \n",
        "- 10\n",
        "- 15\n",
        "- 27 "
      ]
    },
    {
      "cell_type": "code",
      "metadata": {
        "id": "z-ciyXzMi8M8",
        "colab_type": "code",
        "colab": {
          "base_uri": "https://localhost:8080/",
          "height": 34
        },
        "outputId": "bb39dd0f-24e2-4495-f722-971b8c836595"
      },
      "source": [
        "# You code here\n",
        "t = data.loc[(data['Year']==2002), 'Sport'].unique()\n",
        "len(t)"
      ],
      "execution_count": 322,
      "outputs": [
        {
          "output_type": "execute_result",
          "data": {
            "text/plain": [
              "15"
            ]
          },
          "metadata": {
            "tags": []
          },
          "execution_count": 322
        }
      ]
    },
    {
      "cell_type": "code",
      "metadata": {
        "id": "o9c9hotH51iz",
        "colab_type": "code",
        "colab": {
          "base_uri": "https://localhost:8080/",
          "height": 34
        },
        "outputId": "00c2e348-c2f1-4268-ed2a-d3efceda27f1"
      },
      "source": [
        "s = data.loc[(data['Year']==1986), 'Sport'].unique()\n",
        "len(s)"
      ],
      "execution_count": 323,
      "outputs": [
        {
          "output_type": "execute_result",
          "data": {
            "text/plain": [
              "0"
            ]
          },
          "metadata": {
            "tags": []
          },
          "execution_count": 323
        }
      ]
    },
    {
      "cell_type": "code",
      "metadata": {
        "id": "vYPVbTETGz7E",
        "colab_type": "code",
        "colab": {
          "base_uri": "https://localhost:8080/",
          "height": 34
        },
        "outputId": "b2f39e22-006c-4f1d-eaf8-b60ee7df001a"
      },
      "source": [
        "print(\"Answer: \", len(t) - len(s))"
      ],
      "execution_count": 326,
      "outputs": [
        {
          "output_type": "stream",
          "text": [
            "Answer:  15\n"
          ],
          "name": "stdout"
        }
      ]
    },
    {
      "cell_type": "markdown",
      "metadata": {
        "id": "RJ1pDSl9i8NE",
        "colab_type": "text"
      },
      "source": [
        "That's it! Now go and do 30 push-ups! :)"
      ]
    }
  ]
}