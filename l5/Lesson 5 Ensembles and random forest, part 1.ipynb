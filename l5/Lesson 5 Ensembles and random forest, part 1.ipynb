{
 "cells": [
  {
   "cell_type": "code",
   "execution_count": 2,
   "metadata": {
    "ExecuteTime": {
     "end_time": "2019-09-27T13:16:52.622375Z",
     "start_time": "2019-09-27T13:16:52.612547Z"
    }
   },
   "outputs": [],
   "source": [
    "import numpy as np\n",
    "import pandas as pd\n",
    "import seaborn as sns\n",
    "sns.set()\n",
    "%matplotlib inline\n",
    "from matplotlib import pyplot as plt"
   ]
  },
  {
   "cell_type": "code",
   "execution_count": 3,
   "metadata": {
    "ExecuteTime": {
     "end_time": "2019-09-27T13:17:15.498755Z",
     "start_time": "2019-09-27T13:17:14.877435Z"
    }
   },
   "outputs": [
    {
     "data": {
      "image/png": "[encoded data removed]",
      "text/plain": [
       "<Figure size 432x288 with 1 Axes>"
      ]
     },
     "metadata": {
      "needs_background": "light"
     },
     "output_type": "display_data"
    }
   ],
   "source": [
    "telecom_data = pd.read_csv('data/telecom_churn.csv')\n",
    "\n",
    "telecom_data.loc[telecom_data['Churn'] == False,\n",
    "                 'Customer service calls'].hist(label='Loyal')\n",
    "telecom_data.loc[telecom_data['Churn'] == True,\n",
    "                 'Customer service calls'].hist(label='Churn')\n",
    "plt.xlabel('Number of calls')\n",
    "plt.ylabel('Density')\n",
    "plt.legend();"
   ]
  },
  {
   "cell_type": "code",
   "execution_count": 4,
   "metadata": {
    "ExecuteTime": {
     "end_time": "2019-09-27T13:19:12.100567Z",
     "start_time": "2019-09-27T13:19:12.092281Z"
    }
   },
   "outputs": [],
   "source": [
    "def get_bootstrap_samples(data, n_samples):\n",
    "    \"\"\"Generate bootstrap samples using the bootstrap method.\"\"\"\n",
    "    indices = np.random.randint(0, len(data), (n_samples, len(data)))\n",
    "    samples = data[indices]\n",
    "    return samples"
   ]
  },
  {
   "cell_type": "code",
   "execution_count": 5,
   "metadata": {
    "ExecuteTime": {
     "end_time": "2019-09-27T13:19:21.683990Z",
     "start_time": "2019-09-27T13:19:21.673808Z"
    }
   },
   "outputs": [],
   "source": [
    "def stat_intervals(stat, alpha):\n",
    "    \"\"\"Produce an interval estimate.\"\"\"\n",
    "    boundaries = np.percentile(stat, [100 * alpha / 2., 100 * (1 - alpha / 2.)])\n",
    "    return boundaries"
   ]
  },
  {
   "cell_type": "code",
   "execution_count": 6,
   "metadata": {
    "ExecuteTime": {
     "end_time": "2019-09-27T13:19:42.493609Z",
     "start_time": "2019-09-27T13:19:42.483407Z"
    }
   },
   "outputs": [],
   "source": [
    "loyal_calls = telecom_data.loc[telecom_data['Churn'] == False,\n",
    "                               'Customer service calls'].values\n",
    "churn_calls = telecom_data.loc[telecom_data['Churn'] == True,\n",
    "                          'Customer service calls'].values"
   ]
  },
  {
   "cell_type": "code",
   "execution_count": 7,
   "metadata": {
    "ExecuteTime": {
     "end_time": "2019-09-27T13:19:50.007371Z",
     "start_time": "2019-09-27T13:19:50.001285Z"
    }
   },
   "outputs": [],
   "source": [
    "np.random.seed(0)"
   ]
  },
  {
   "cell_type": "code",
   "execution_count": 10,
   "metadata": {
    "ExecuteTime": {
     "end_time": "2019-09-27T13:21:38.478816Z",
     "start_time": "2019-09-27T13:21:38.344231Z"
    }
   },
   "outputs": [],
   "source": [
    "loyal_mean_scores = [np.mean(sample) for sample in get_bootstrap_samples(loyal_calls, 1000)]\n",
    "churn_mean_scores = [np.mean(sample) for sample in get_bootstrap_samples(churn_calls, 1000)]"
   ]
  },
  {
   "cell_type": "code",
   "execution_count": 9,
   "metadata": {
    "ExecuteTime": {
     "end_time": "2019-09-27T13:20:10.986277Z",
     "start_time": "2019-09-27T13:20:10.975074Z"
    }
   },
   "outputs": [
    {
     "name": "stdout",
     "output_type": "stream",
     "text": [
      "Service calls from loyal: mean interval [1.4077193  1.49473684]\n",
      "Service calls from churn: mean interval [2.0621118  2.39761905]\n"
     ]
    }
   ],
   "source": [
    "# Print the resulting interval estimates\n",
    "print(\"Service calls from loyal: mean interval\", stat_intervals(loyal_mean_scores, 0.05))\n",
    "print(\"Service calls from churn: mean interval\", stat_intervals(churn_mean_scores, 0.05))"
   ]
  },
  {
   "cell_type": "code",
   "execution_count": 17,
   "metadata": {
    "ExecuteTime": {
     "end_time": "2019-09-27T14:25:07.997865Z",
     "start_time": "2019-09-27T14:25:07.845178Z"
    }
   },
   "outputs": [],
   "source": [
    "import warnings\n",
    "import numpy as np\n",
    "warnings.filterwarnings('ignore')\n",
    "\n",
    "%matplotlib inline\n",
    "from matplotlib import pyplot as plt\n",
    "plt.style.use('ggplot')\n",
    "plt.rcParams['figure.figsize'] = 10, 6\n",
    "%config InlineBackend.figure_format = 'retina' \n",
    "\n",
    "import seaborn as sns\n",
    "from sklearn.ensemble import RandomForestRegressor, RandomForestClassifier\n",
    "from sklearn.ensemble import BaggingClassifier, BaggingRegressor\n",
    "from sklearn.tree import DecisionTreeRegressor, DecisionTreeClassifier\n",
    "from sklearn.datasets import make_circles\n",
    "from sklearn.model_selection import train_test_split"
   ]
  }
 ],
 "metadata": {
  "kernelspec": {
   "display_name": "Python 3",
   "language": "python",
   "name": "python3"
  },
  "language_info": {
   "codemirror_mode": {
    "name": "ipython",
    "version": 3
   },
   "file_extension": ".py",
   "mimetype": "text/x-python",
   "name": "python",
   "nbconvert_exporter": "python",
   "pygments_lexer": "ipython3",
   "version": "3.7.3"
  }
 },
 "nbformat": 4,
 "nbformat_minor": 2
}
